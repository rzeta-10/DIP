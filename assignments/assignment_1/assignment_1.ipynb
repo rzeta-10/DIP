{
 "cells": [
  {
   "cell_type": "markdown",
   "metadata": {},
   "source": [
    "# Assignment - 1"
   ]
  },
  {
   "cell_type": "markdown",
   "metadata": {},
   "source": [
    "### CS22B1093 Rohan G"
   ]
  },
  {
   "cell_type": "markdown",
   "metadata": {},
   "source": [
    "-------------------"
   ]
  },
  {
   "cell_type": "markdown",
   "metadata": {},
   "source": [
    "### Importing necessary libraries"
   ]
  },
  {
   "cell_type": "code",
   "execution_count": 1,
   "metadata": {},
   "outputs": [],
   "source": [
    "import cv2\n",
    "import numpy as np\n",
    "import matplotlib.pyplot as plt\n",
    "%matplotlib inline\n",
    "import math"
   ]
  },
  {
   "cell_type": "markdown",
   "metadata": {},
   "source": [
    "### Reading the photo through cv2"
   ]
  },
  {
   "cell_type": "code",
   "execution_count": 2,
   "metadata": {},
   "outputs": [
    {
     "name": "stderr",
     "output_type": "stream",
     "text": [
      "QSocketNotifier: Can only be used with threads started with QThread\n"
     ]
    }
   ],
   "source": [
    "img = cv2.imread(\"photo.jpeg\")\n",
    "img_rgb = cv2.cvtColor(img, cv2.COLOR_BGR2RGB)\n",
    "# cv2.imshow(\"photo\", img) # since cv2 uses BGR format to display and store \n",
    "cv2.imshow(\"Original Photo\", cv2.cvtColor(img_rgb, cv2.COLOR_RGB2BGR))\n",
    "cv2.waitKey(0)\n",
    "cv2.destroyAllWindows()"
   ]
  },
  {
   "cell_type": "code",
   "execution_count": 3,
   "metadata": {},
   "outputs": [
    {
     "name": "stdout",
     "output_type": "stream",
     "text": [
      "(559, 591, 3)\n"
     ]
    }
   ],
   "source": [
    "print(img.shape)"
   ]
  },
  {
   "cell_type": "markdown",
   "metadata": {},
   "source": [
    "### Adding blur to the image"
   ]
  },
  {
   "cell_type": "markdown",
   "metadata": {},
   "source": [
    "#### Calculating good kernel size"
   ]
  },
  {
   "cell_type": "code",
   "execution_count": 4,
   "metadata": {},
   "outputs": [
    {
     "name": "stdout",
     "output_type": "stream",
     "text": [
      "6\n"
     ]
    }
   ],
   "source": [
    "kernel_size = math.ceil(min(img.shape[0],img.shape[1])/100)\n",
    "print(kernel_size)\n",
    "if (kernel_size % 2 == 0):\n",
    "    kernel_size += 1"
   ]
  },
  {
   "cell_type": "markdown",
   "metadata": {},
   "source": [
    "#### Averaging Blur"
   ]
  },
  {
   "cell_type": "code",
   "execution_count": 5,
   "metadata": {},
   "outputs": [],
   "source": [
    "\n",
    "img_avg_blur = cv2.blur(img, (kernel_size,kernel_size)) # params => image, kernel size (a,b)\n",
    "cv2.imshow(\"Averaging Blurred Photo\", img_avg_blur)\n",
    "cv2.waitKey(0)\n",
    "cv2.destroyWindow(\"Averaging Blurred Photo\")"
   ]
  },
  {
   "cell_type": "markdown",
   "metadata": {},
   "source": [
    "#### Gaussian Blur"
   ]
  },
  {
   "cell_type": "code",
   "execution_count": 6,
   "metadata": {},
   "outputs": [],
   "source": [
    "img_gaus_blur = cv2.GaussianBlur(img, (kernel_size, kernel_size), 0) # params => image, kernel size (a,b), sigma\n",
    "cv2.imshow(\"Gaussian Blurred Photo\", img_gaus_blur) # kernel conditions => +ve and odd\n",
    "cv2.waitKey(0)\n",
    "cv2.destroyAllWindows()"
   ]
  },
  {
   "cell_type": "markdown",
   "metadata": {},
   "source": [
    "### Adding Gaussian Noise"
   ]
  },
  {
   "cell_type": "code",
   "execution_count": 7,
   "metadata": {},
   "outputs": [],
   "source": [
    "def add_gaussian_noise(image, mean=0, deviation = 10):\n",
    "    # Generate Gaussian Noise\n",
    "    noise = np.random.normal(mean, deviation, image.shape).astype(np.float32)\n",
    "\n",
    "    # Adding noise to the image\n",
    "    noisy_img = img.astype(np.float32) + noise\n",
    "\n",
    "    # Clip the overflow pixel values\n",
    "    noisy_img = np.clip(noisy_img, 0, 255).astype(np.uint8)\n",
    "\n",
    "    return noisy_img\n",
    "\n",
    "noisy_img = add_gaussian_noise(img_gaus_blur, 0, 20)\n",
    "\n",
    "cv2.imshow(\"Photo with Gaussian Noise\", noisy_img)\n",
    "cv2.waitKey(0)\n",
    "cv2.destroyAllWindows()"
   ]
  },
  {
   "cell_type": "markdown",
   "metadata": {},
   "source": [
    "### Compress using JPEG 2000 and decompressing it to 75%"
   ]
  },
  {
   "cell_type": "code",
   "execution_count": 8,
   "metadata": {},
   "outputs": [],
   "source": [
    "img_compress = \"compressed_photo.jp2\"\n",
    "\n",
    "compression_ratio = 750 # 0 - 1000 ( 0 == low quality , high compression || 1000 == high qualtiy , low compression)\n",
    "\n",
    "cv2.imwrite(img_compress, noisy_img, [cv2.IMWRITE_JPEG2000_COMPRESSION_X1000, compression_ratio])\n",
    "\n",
    "img_compress = cv2.imread(img_compress)\n",
    "\n",
    "cv2.imshow(\"Decompressed image (75% Quality)\", img_compress)\n",
    "cv2.waitKey(0)\n",
    "cv2.destroyAllWindows()"
   ]
  },
  {
   "cell_type": "markdown",
   "metadata": {},
   "source": [
    "### Calculating the PSNR Ratio"
   ]
  },
  {
   "cell_type": "code",
   "execution_count": 9,
   "metadata": {},
   "outputs": [
    {
     "name": "stdout",
     "output_type": "stream",
     "text": [
      "The calulated PSNR value is :  22.47465246012866\n",
      "The calulated PSNR value using inbuilt function is :  22.47465170956218\n"
     ]
    }
   ],
   "source": [
    "L = 255\n",
    "squared_diff = (img.astype(np.float32) - img_compress.astype(np.float32)) ** 2\n",
    "\n",
    "# Sum all squared differences\n",
    "total_squared_diff = squared_diff.sum()\n",
    "\n",
    "# Calculate MSE\n",
    "total_pixels = img.shape[0] * img.shape[1] * img.shape[2]  # height * width * channels\n",
    "mse = total_squared_diff / total_pixels\n",
    "\n",
    "psnr = 10 * math.log10(((L)**2)/(mse)) # PSNR Manual\n",
    "\n",
    "psnr_inbuilt = cv2.PSNR(img, img_compress) # PSNR Inbuilt\n",
    "\n",
    "print(\"The calulated PSNR value is : \", psnr)\n",
    "print(\"The calulated PSNR value using inbuilt function is : \", psnr_inbuilt)\n"
   ]
  },
  {
   "cell_type": "markdown",
   "metadata": {},
   "source": [
    "-------"
   ]
  }
 ],
 "metadata": {
  "kernelspec": {
   "display_name": "Python 3",
   "language": "python",
   "name": "python3"
  },
  "language_info": {
   "codemirror_mode": {
    "name": "ipython",
    "version": 3
   },
   "file_extension": ".py",
   "mimetype": "text/x-python",
   "name": "python",
   "nbconvert_exporter": "python",
   "pygments_lexer": "ipython3",
   "version": "3.12.3"
  }
 },
 "nbformat": 4,
 "nbformat_minor": 2
}
